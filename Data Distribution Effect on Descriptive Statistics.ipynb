{
 "cells": [
  {
   "cell_type": "markdown",
   "id": "be2d8f07",
   "metadata": {},
   "source": [
    "### Understand and Visualize Descriptive Statistics - with the help of Gaussian, Left-skewed, and Right-skewed Dataset :\n",
    "\n",
    "**Introduction:**\n",
    "The idea of this notebook is to understand and visulize the various descriptive statistics and more importantly to see how they changes when the underlying data distribution changes. So, we will begin with a normally distributed dataset and then we will change the distribution to m ake it left and right skewed data and see how the statistics changes. \n",
    "\n",
    "**Dataset:**\n",
    "This data is about \"Housefly Wing Lengths\" and has been taken from <a href=\"https://seattlecentral.edu/qelp/sets/057/057.html\"> Seattlecentral.edu </a> (`Sokal, R.R., and P.E.Hunter. 1955.`)\n",
    "This is an excellent example of normally distributed data from the field of biometry.\n",
    "\n",
    "**Approach**\n",
    "We will run this notebook in two part:\n",
    " - **Part A: Understand all about descriptive statistics for a normally distributed dataset**\n",
    "     - calculate and visualize the descriptive statistics\n",
    "     - test for normal distribution\n",
    "     - test for outliers\n",
    "     - test if the distribution follow 68-95-99 rule with 1-2-3 sigma deviation\n",
    "     \n",
    " - **Part B: Change the distributio to make it a left-skewed or negatively skewed dataset**\n",
    "     - test for normal distribution (should fail the test)\n",
    "     - see the impact on descriptive statistics/visualization (**`Mode > Median > Mean`**)\n",
    "     - check for any outliers due to skewness\n",
    "     \n",
    " - **Part C: Change the distributio to make it a right-skewed or positively skewed dataset**\n",
    "     - test for normal distribution (should fail the test)\n",
    "     - see the impact on descriptive statistics/visualization (**`Mode < Median < Mean`**) \n",
    "     - check for any outliers due to skewness"
   ]
  },
  {
   "cell_type": "code",
   "execution_count": 33,
   "id": "4040371e",
   "metadata": {},
   "outputs": [],
   "source": [
    "import numpy as np\n",
    "import pandas as pd\n",
    "import matplotlib.pyplot as plt\n",
    "import seaborn as sns\n",
    "import scipy.stats as stats\n",
    "from scipy.stats import shapiro\n",
    "import warnings\n",
    "warnings.filterwarnings(\"ignore\")"
   ]
  },
  {
   "cell_type": "markdown",
   "id": "061eb929",
   "metadata": {},
   "source": [
    "#### Part A: Understand all about descriptive statistics for a normally distributed dataset.\n",
    "  1. calculate descriptive statistics (validate if `mean = median = mode`)\n",
    "  2. test for normal distribution (Scipy `Shapiro-Wilk test`)\n",
    "  3. test for outliers (`IQR Method and Z-score Method`)\n",
    "  4. test if the distribution follow 68-95-99 rule with 1-2-3 sigma deviation"
   ]
  },
  {
   "cell_type": "code",
   "execution_count": 34,
   "id": "c1066c9a",
   "metadata": {
    "scrolled": false
   },
   "outputs": [
    {
     "name": "stdout",
     "output_type": "stream",
     "text": [
      "(100, 1)\n",
      "<class 'pandas.core.frame.DataFrame'>\n",
      "RangeIndex: 100 entries, 0 to 99\n",
      "Data columns (total 1 columns):\n",
      " #   Column  Non-Null Count  Dtype\n",
      "---  ------  --------------  -----\n",
      " 0   length  100 non-null    int64\n",
      "dtypes: int64(1)\n",
      "memory usage: 928.0 bytes\n",
      "None\n"
     ]
    }
   ],
   "source": [
    "df = pd.read_excel(\"s057.xls\")\n",
    "print(df.shape)\n",
    "print(df.info())"
   ]
  },
  {
   "cell_type": "code",
   "execution_count": 35,
   "id": "da8c0aba",
   "metadata": {},
   "outputs": [
    {
     "data": {
      "text/html": [
       "<div>\n",
       "<style scoped>\n",
       "    .dataframe tbody tr th:only-of-type {\n",
       "        vertical-align: middle;\n",
       "    }\n",
       "\n",
       "    .dataframe tbody tr th {\n",
       "        vertical-align: top;\n",
       "    }\n",
       "\n",
       "    .dataframe thead th {\n",
       "        text-align: right;\n",
       "    }\n",
       "</style>\n",
       "<table border=\"1\" class=\"dataframe\">\n",
       "  <thead>\n",
       "    <tr style=\"text-align: right;\">\n",
       "      <th></th>\n",
       "      <th>length</th>\n",
       "    </tr>\n",
       "  </thead>\n",
       "  <tbody>\n",
       "    <tr>\n",
       "      <th>count</th>\n",
       "      <td>100.000000</td>\n",
       "    </tr>\n",
       "    <tr>\n",
       "      <th>mean</th>\n",
       "      <td>45.500000</td>\n",
       "    </tr>\n",
       "    <tr>\n",
       "      <th>std</th>\n",
       "      <td>3.919647</td>\n",
       "    </tr>\n",
       "    <tr>\n",
       "      <th>min</th>\n",
       "      <td>36.000000</td>\n",
       "    </tr>\n",
       "    <tr>\n",
       "      <th>25%</th>\n",
       "      <td>43.000000</td>\n",
       "    </tr>\n",
       "    <tr>\n",
       "      <th>50%</th>\n",
       "      <td>45.500000</td>\n",
       "    </tr>\n",
       "    <tr>\n",
       "      <th>75%</th>\n",
       "      <td>48.000000</td>\n",
       "    </tr>\n",
       "    <tr>\n",
       "      <th>max</th>\n",
       "      <td>55.000000</td>\n",
       "    </tr>\n",
       "  </tbody>\n",
       "</table>\n",
       "</div>"
      ],
      "text/plain": [
       "           length\n",
       "count  100.000000\n",
       "mean    45.500000\n",
       "std      3.919647\n",
       "min     36.000000\n",
       "25%     43.000000\n",
       "50%     45.500000\n",
       "75%     48.000000\n",
       "max     55.000000"
      ]
     },
     "execution_count": 35,
     "metadata": {},
     "output_type": "execute_result"
    }
   ],
   "source": [
    "df.describe()"
   ]
  },
  {
   "cell_type": "markdown",
   "id": "e403964a",
   "metadata": {},
   "source": [
    "**A1. Descriptive Statistics Definition**"
   ]
  },
  {
   "cell_type": "code",
   "execution_count": 36,
   "id": "32f8d650",
   "metadata": {},
   "outputs": [],
   "source": [
    "# Create functions for descriptive Statistics\n",
    "def measure_of_central_tendency(x):\n",
    "    print(\"Mean, Median, and Mode are respectively:\")\n",
    "    return x.mean(), x.median(), 3*x.median()-2*x.mean()\n",
    "\n",
    "def positional_statistics(x):\n",
    "    print(\"Min, 10th Decile, IQR1, Median, IQR3, 90th Decile, and Max. are respectively:\")\n",
    "    return x.min(), round(x.quantile(.10),2), round(x.quantile(.25),2), round(x.quantile(.50),2), \n",
    "    round(x.quantile(.75),2), round(x.quantile(.90),2), x.max()\n",
    "\n",
    "def measure_of_dispersion(x):\n",
    "    print(\"Range, Inter Quartile Range, variance, and Std. devations are respectively:\")\n",
    "    return x.max()-x.min(), round((x.quantile(.75)-x.quantile(.25)),2), round(x.var(),2), round(x.std(),2)\n",
    "\n",
    "def measure_of_shape(x):\n",
    "    print(\"Skewness and Kurtosis coefficients are:\")\n",
    "    return round(x.skew(),2), round(x.kurt(),2)"
   ]
  },
  {
   "cell_type": "markdown",
   "id": "8f91f507",
   "metadata": {},
   "source": [
    "**A2. Descriptive Statistics Summary and Visualization**"
   ]
  },
  {
   "cell_type": "code",
   "execution_count": 37,
   "id": "23c58f8b",
   "metadata": {
    "scrolled": false
   },
   "outputs": [
    {
     "name": "stdout",
     "output_type": "stream",
     "text": [
      "Summary of Descriptive Statistics:\n",
      "----------------------------------\n",
      "Mean, Median, and Mode are respectively:\n",
      "(45.5, 45.5, 45.5)\n",
      "Min, 10th Decile, IQR1, Median, IQR3, 90th Decile, and Max. are respectively:\n",
      "(36, 40.9, 43.0, 45.5)\n",
      "Range, Inter Quartile Range, variance, and Std. devations are respectively:\n",
      "(19, 5.0, 15.36, 3.92)\n",
      "Skewness and Kurtosis coefficients are:\n",
      "(0.0, -0.29)\n"
     ]
    },
    {
     "data": {
      "image/png": "[encoded data removed]",
      "text/plain": [
       "<Figure size 864x360 with 1 Axes>"
      ]
     },
     "metadata": {
      "needs_background": "light"
     },
     "output_type": "display_data"
    }
   ],
   "source": [
    "print(\"Summary of Descriptive Statistics:\")\n",
    "print(\"----------------------------------\")\n",
    "print(measure_of_central_tendency(df.length))\n",
    "print(positional_statistics(df.length))\n",
    "print(measure_of_dispersion(df.length))\n",
    "print(measure_of_shape(df.length))\n",
    "\n",
    "# Plot the graph\n",
    "plt.figure(figsize=(12,5))\n",
    "sns.distplot(df.length, bins=20, hist=True, kde=True, label = 'Length', color = \"blue\")\n",
    "plt.axvline(df.length.mean(),color='orange',label='Mean')\n",
    "plt.axvline(df.length.median(),color='black',label='Median')\n",
    "plt.axvline(3*df.length.median()-2*df.length.mean(),color='red',label='Mode')\n",
    "plt.axvline(df.length.quantile(0.25),color='cyan',label='IQR1')\n",
    "plt.axvline(df.length.quantile(0.75),color='cyan',label='IQR3')\n",
    "plt.axvline(df.length.mean() - 3*df.length.std(),color='lime',label= \"mean - 3*Sigma\")\n",
    "plt.axvline(df.length.mean() + 3*df.length.std(),color='lime',label= \"mean + 3*Sigma\")\n",
    "plt.title(\"Descriptive Statistics: Normal Distribution\", fontsize =14)\n",
    "plt.xlabel('Length', fontsize =14)\n",
    "plt.ylabel('Frequency', fontsize =14)\n",
    "plt.legend()\n",
    "plt.show()"
   ]
  },
  {
   "cell_type": "markdown",
   "id": "ecf4bde2",
   "metadata": {},
   "source": [
    "**We can observe that:**\n",
    " - `Mean = median = mode are overlapping with each other`justifying a perfectly normally distributed data.\n",
    " - we have a perfectly bell shaped curve"
   ]
  },
  {
   "cell_type": "markdown",
   "id": "836e46ae",
   "metadata": {},
   "source": [
    "**A3. Test for Normal Distribution of Data**"
   ]
  },
  {
   "cell_type": "markdown",
   "id": "764db8dc",
   "metadata": {},
   "source": [
    "We will use <a href = \"https://docs.scipy.org/doc/scipy/reference/generated/scipy.stats.shapiro.html\"> Scipy Shapiro-Wilk test </a> to test the normality of the dataset. This tests the null hypothesis that the data was drawn from a normal distribution. i.e.\n",
    "\n",
    " - H0: the data is normally distributed\n",
    " - H1: the data doesn't follow a normal distribution\n",
    "\n",
    "In the SciPy implementation the p value can be interpreetd as follows:\n",
    " * p <= alpha: reject H0, not normally distributed. \n",
    " * p > alpha: fail to reject H0, i.e. normally distributed\n",
    "\n",
    "Broadly speaking , results with a larger p-value to confirm that our sample was likely drawn from a Gaussian distribution."
   ]
  },
  {
   "cell_type": "code",
   "execution_count": 38,
   "id": "81eebe03",
   "metadata": {
    "scrolled": true
   },
   "outputs": [
    {
     "name": "stdout",
     "output_type": "stream",
     "text": [
      "Test Statistics = 0.993, and p-value is 0.876\n",
      "Data is Normally Distributed (fail to reject H0 as p-value is > 0.05)\n"
     ]
    }
   ],
   "source": [
    "# Shapiro-Wilk Test for Normality\n",
    "stat, p = shapiro(df.length)\n",
    "print('Test Statistics = %.3f, and p-value is %.3f' % (stat, p))\n",
    "\n",
    "# interpret results\n",
    "alpha = 0.05\n",
    "if p > alpha:\n",
    "    print('Data is Normally Distributed (fail to reject H0 as p-value is > 0.05)')\n",
    "else:\n",
    "    print('Data is NOT Normally Distributed (reject H0 as p-value is < 0.05)')"
   ]
  },
  {
   "cell_type": "markdown",
   "id": "a96580c0",
   "metadata": {},
   "source": [
    "**A4. Check for Outliers**\n",
    "\n",
    "We will use `IQR Method` as well as `Z-score` method to check if the data is normally distributed."
   ]
  },
  {
   "cell_type": "code",
   "execution_count": 39,
   "id": "cd6770ee",
   "metadata": {},
   "outputs": [
    {
     "name": "stdout",
     "output_type": "stream",
     "text": [
      "IQR Methos: No Outliers present in the data\n",
      "3 Sigma Methods: No Outliers present in the data\n"
     ]
    },
    {
     "data": {
      "image/png": "[encoded data removed]",
      "text/plain": [
       "<Figure size 360x432 with 1 Axes>"
      ]
     },
     "metadata": {
      "needs_background": "light"
     },
     "output_type": "display_data"
    }
   ],
   "source": [
    "# Calculate some relavnt values\n",
    "mn = df.length.min()\n",
    "mx = df.length.max()\n",
    "iqr1 = df.length.quantile(.25)\n",
    "iqr3 = df.length.quantile(.75)\n",
    "iqr = iqr3-iqr1\n",
    "sd = df.length.std()\n",
    "mean = df.length.mean()\n",
    "\n",
    "# IQR Methods:\n",
    "if((mn < iqr1 - 1.5*iqr) or (mx > iqr3 + 1.5*iqr)):\n",
    "    print(\"IQR Methos: Outliers present in the data\")        \n",
    "else:\n",
    "    print(\"IQR Methos: No Outliers present in the data\")\n",
    "    \n",
    "# Z Methods (or 3 -Sigma Methods)\n",
    "\n",
    "if((mn < (mean - 3*sd)) or (mx > (mean+3*sd))):\n",
    "   print(\"3 Sigma Methods: Outliers present in the data\")\n",
    "else:\n",
    "   print(\"3 Sigma Methods: No Outliers present in the data\")\n",
    "\n",
    "# Plot box plots to look for outliers\n",
    "plt.figure(figsize=(5,6))\n",
    "sns.boxplot(y = df.length, color = \"cyan\")\n",
    "plt.show()"
   ]
  },
  {
   "cell_type": "markdown",
   "id": "2ecbeffc",
   "metadata": {},
   "source": [
    "**A5. Validate if the distribution follow 68-95-99 rule with 1-2-3 sigma deviation**"
   ]
  },
  {
   "cell_type": "code",
   "execution_count": 40,
   "id": "51748384",
   "metadata": {},
   "outputs": [
    {
     "name": "stdout",
     "output_type": "stream",
     "text": [
      "Area covered from mean with +/-  1 sigma is: 68.27\n",
      "Area covered from mean with +/-  2 sigma is: 95.45\n",
      "Area covered from mean with +/-  3 sigma is: 99.73\n"
     ]
    }
   ],
   "source": [
    "def calculate_percentage(mean, sd, k):\n",
    "    \n",
    "    #calculate upper and lower vaue\n",
    "    lower_limit = mean + k*sd\n",
    "    upper_limit = mean - k*sd \n",
    "    \n",
    "    # define the distribution\n",
    "    dist = stats.norm(loc=mean, scale=sd)\n",
    "           \n",
    "    # Calculate area covered\n",
    "    cdf_between_k_sigma = dist.cdf(lower_limit) - dist.cdf(upper_limit)\n",
    "    return print(\"Area covered from mean with +/- %2d sigma is: %4.2f\" % (k,round(cdf_between_k_sigma*100,2)))\n",
    "   \n",
    "\n",
    "calculate_percentage(df.length.mean(), df.length.std(), 1)\n",
    "calculate_percentage(df.length.mean(), df.length.std(), 2) \n",
    "calculate_percentage(df.length.mean(), df.length.std(), 3)"
   ]
  },
  {
   "cell_type": "markdown",
   "id": "d89633be",
   "metadata": {},
   "source": [
    "### Part B: Change the data distributionto to make it a Left-skewed (or Negatively skewed) dataset"
   ]
  },
  {
   "cell_type": "code",
   "execution_count": 41,
   "id": "ae51788f",
   "metadata": {},
   "outputs": [
    {
     "name": "stdout",
     "output_type": "stream",
     "text": [
      "46.4\n",
      "Resulting dataframe shape is: (50, 1)\n",
      "New Skew value is: -0.83\n"
     ]
    }
   ],
   "source": [
    "# Get a sense of 60th percentile data for left skew and 40th percentile for right skew ata\n",
    "print(df.length.quantile(.60))\n",
    "\n",
    "# force the normally distributed dataset to be a left-skewed dataset\n",
    "df_left_skew = df.drop(df[df[\"length\"] > df.length.quantile(.50)].index)\n",
    "\n",
    "# check size of resulting df\n",
    "print(\"Resulting dataframe shape is:\", df_left_skew.shape)\n",
    "\n",
    "#check the skew value to confirm that the data is really skewed now.\n",
    "print(\"New Skew value is:\", round(df_left_skew['length'].skew(),2))\n"
   ]
  },
  {
   "cell_type": "markdown",
   "id": "e1f397ef",
   "metadata": {},
   "source": [
    "**B1. Normality test**    "
   ]
  },
  {
   "cell_type": "code",
   "execution_count": 42,
   "id": "13d20c08",
   "metadata": {},
   "outputs": [
    {
     "name": "stdout",
     "output_type": "stream",
     "text": [
      "Test Statistics = 0.911, and p-value is 0.001\n",
      "Data is NOT Normally Distributed (reject H0 as p-value is < 0.05)\n"
     ]
    }
   ],
   "source": [
    "# Run the Normality test on data - Shapiro-Wilk Test\n",
    "\n",
    "stat, p = shapiro(df_left_skew.length)\n",
    "print('Test Statistics = %.3f, and p-value is %.3f' % (stat, p))\n",
    "# interpret results\n",
    "alpha = 0.05\n",
    "if p > alpha:\n",
    "    print('Data is Normally Distributed (fail to reject H0 as p-value is > 0.05)')\n",
    "else:\n",
    "    print('Data is NOT Normally Distributed (reject H0 as p-value is < 0.05)')"
   ]
  },
  {
   "cell_type": "markdown",
   "id": "a6406901",
   "metadata": {},
   "source": [
    "**B2. Changes in the Descriptive Statistics/Visualization**"
   ]
  },
  {
   "cell_type": "code",
   "execution_count": 43,
   "id": "b38b57fb",
   "metadata": {},
   "outputs": [
    {
     "name": "stdout",
     "output_type": "stream",
     "text": [
      "Summary of Descriptive Statistics:\n",
      "----------------------------------\n",
      "Mean, Median, and Mode are respectively:\n",
      "(42.34, 43.0, 44.31999999999999)\n",
      "Min, 10th Decile, IQR1, Median, IQR3, 90th Decile, and Max. are respectively:\n",
      "(36, 39.0, 41.0, 43.0)\n",
      "Range, Inter Quartile Range, variance, and Std. devations are respectively:\n",
      "(9, 3.0, 5.33, 2.31)\n",
      "Skewness and Kurtosis coefficients are:\n",
      "(-0.83, 0.13)\n"
     ]
    },
    {
     "data": {
      "image/png": "[encoded data removed]",
      "text/plain": [
       "<Figure size 864x360 with 1 Axes>"
      ]
     },
     "metadata": {
      "needs_background": "light"
     },
     "output_type": "display_data"
    }
   ],
   "source": [
    "print(\"Summary of Descriptive Statistics:\")\n",
    "print(\"----------------------------------\")\n",
    "print(measure_of_central_tendency(df_left_skew.length))\n",
    "print(positional_statistics(df_left_skew.length))\n",
    "print(measure_of_dispersion(df_left_skew.length))\n",
    "print(measure_of_shape(df_left_skew.length))\n",
    "\n",
    "# Plot the graph now\n",
    "plt.figure(figsize=(12,5))\n",
    "sns.distplot(df_left_skew.length, bins=10, hist=True, kde=True, label = 'Length', color = \"blue\")\n",
    "plt.axvline(df_left_skew.length.mean(),color='orange',label='Mean')\n",
    "plt.axvline(df_left_skew.length.median(),color='black',label='Median')\n",
    "plt.axvline(3*df_left_skew.length.median()-2*df_left_skew.length.mean(),color='red',label='Mode')\n",
    "plt.axvline(df_left_skew.length.quantile(0.25),color='cyan',label='IQR1')\n",
    "plt.axvline(df_left_skew.length.quantile(0.75),color='cyan',label='IQR3')\n",
    "plt.axvline(df_left_skew.length.mean() - 3*df_left_skew.length.std(),color='lime',label= \"mean - 3*Sigma\")\n",
    "plt.axvline(df_left_skew.length.mean() + 3*df_left_skew.length.std(),color='lime',label= \"mean + 3*Sigma\")\n",
    "plt.title(\"Descriptive Statistics: For a Left-Skewed Distribution\", fontsize =14)\n",
    "plt.xlabel('Length', fontsize =14)\n",
    "plt.ylabel('Frequency', fontsize =14)\n",
    "plt.legend()\n",
    "plt.show()"
   ]
  },
  {
   "cell_type": "markdown",
   "id": "d7dbfe59",
   "metadata": {},
   "source": [
    "We can notice that:\n",
    "- Mean, median, and mode are no more overlapping with each other.\n",
    "- In fact, we can notice that `Mode> Median> Mean` - justifying a left or negatively skewed data.\n",
    "- a long-left tail, hence the mean is also to the left of the peak and median is closer to third quartile.\n"
   ]
  },
  {
   "cell_type": "markdown",
   "id": "bb6b5543",
   "metadata": {},
   "source": [
    "**B3. Outliers check** "
   ]
  },
  {
   "cell_type": "code",
   "execution_count": 44,
   "id": "fd150c75",
   "metadata": {},
   "outputs": [
    {
     "name": "stdout",
     "output_type": "stream",
     "text": [
      "IQR Methos: Outliers present in the data\n",
      "3 Sigma Methods: No Outliers present in the data\n"
     ]
    },
    {
     "data": {
      "image/png": "[encoded data removed]",
      "text/plain": [
       "<Figure size 360x432 with 1 Axes>"
      ]
     },
     "metadata": {
      "needs_background": "light"
     },
     "output_type": "display_data"
    }
   ],
   "source": [
    "# Calculate some relavnt values\n",
    "mn = df_left_skew.length.min()\n",
    "mx = df_left_skew.length.max()\n",
    "iqr1 = df_left_skew.length.quantile(.25)\n",
    "iqr3 = df_left_skew.length.quantile(.75)\n",
    "iqr = iqr3-iqr1\n",
    "sd = df_left_skew.length.std()\n",
    "mean = df_left_skew.length.mean()\n",
    "\n",
    "# IQR Methods:\n",
    "if((mn < iqr1 - 1.5*iqr) or (mx > iqr3 + 1.5*iqr)):\n",
    "    print(\"IQR Methos: Outliers present in the data\")        \n",
    "else:\n",
    "    print(\"IQR Methos: No Outliers present in the data\")\n",
    "    \n",
    "# Z Methods (or 3 -Sigma Methods)\n",
    "\n",
    "if((mn < (mean - 3*sd)) or (mx > (mean+3*sd))):\n",
    "   print(\"3 Sigma Methods: Outliers present in the data\")\n",
    "else:\n",
    "   print(\"3 Sigma Methods: No Outliers present in the data\")\n",
    "\n",
    "# Plot box plots to look for outliers\n",
    "plt.figure(figsize=(5,6))\n",
    "sns.boxplot(y = df_left_skew.length, color = \"cyan\")\n",
    "plt.show()"
   ]
  },
  {
   "cell_type": "markdown",
   "id": "491f2512",
   "metadata": {},
   "source": [
    "We notice that we have an outlier detected by IQR method but not by z-score method. Please note that IQR method considers **+/- 2.7*Sigma** for outliers detection, whereas Z-score method check **+/- 3*Sigma** for outliers detection.\n",
    "\n",
    "Refer this <a href=\"https://towardsdatascience.com/why-1-5-in-iqr-method-of-outlier-detection-5d07fdc82097\"> Blog </a> for more details."
   ]
  },
  {
   "cell_type": "markdown",
   "id": "86db8e13",
   "metadata": {},
   "source": [
    "### Part C: Change the data distribution to make it a Right-skewed (or positively- skewed) dataset"
   ]
  },
  {
   "cell_type": "code",
   "execution_count": 50,
   "id": "4de9d43e",
   "metadata": {},
   "outputs": [
    {
     "name": "stdout",
     "output_type": "stream",
     "text": [
      "44.6\n",
      "Resulting dataframe shape is: (50, 1)\n",
      "New Skew value is: 0.83\n"
     ]
    }
   ],
   "source": [
    "# Get a sense of 60th percentile data for left skew and 40th percentile for right skew ata\n",
    "print(df.length.quantile(.40))\n",
    "\n",
    "# force the normally distributed dataset to be a right-skewed dataset\n",
    "df_right_skew = df.drop(df[df[\"length\"] < df.length.quantile(.50)].index)\n",
    "\n",
    "# check size of resulting df\n",
    "print(\"Resulting dataframe shape is:\", df_right_skew.shape)\n",
    "\n",
    "#check the skew value to confirm that the data is really skewed now.\n",
    "print(\"New Skew value is:\", round(df_right_skew['length'].skew(),2))"
   ]
  },
  {
   "cell_type": "markdown",
   "id": "fa838e63",
   "metadata": {},
   "source": [
    "**C1. Normality test**  "
   ]
  },
  {
   "cell_type": "code",
   "execution_count": 46,
   "id": "8b951dc7",
   "metadata": {},
   "outputs": [
    {
     "name": "stdout",
     "output_type": "stream",
     "text": [
      "Test Statistics = 0.911, and p-value is 0.001\n",
      "Data is NOT Normally Distributed (reject H0 as p-value is < 0.05)\n"
     ]
    }
   ],
   "source": [
    "# Run the Normality test on data - Shapiro-Wilk Test\n",
    "\n",
    "stat, p = shapiro(df_right_skew.length)\n",
    "print('Test Statistics = %.3f, and p-value is %.3f' % (stat, p))\n",
    "# interpret results\n",
    "alpha = 0.05\n",
    "if p > alpha:\n",
    "    print('Data is Normally Distributed (fail to reject H0 as p-value is > 0.05)')\n",
    "else:\n",
    "    print('Data is NOT Normally Distributed (reject H0 as p-value is < 0.05)')"
   ]
  },
  {
   "cell_type": "markdown",
   "id": "6e4aed59",
   "metadata": {},
   "source": [
    "**C2. Changes in the Descriptive Statistics/Visualization**"
   ]
  },
  {
   "cell_type": "code",
   "execution_count": 47,
   "id": "7b7c18cb",
   "metadata": {},
   "outputs": [
    {
     "name": "stdout",
     "output_type": "stream",
     "text": [
      "Summary of Descriptive Statistics:\n",
      "----------------------------------\n",
      "Mean, Median, and Mode are respectively:\n",
      "(48.66, 48.0, 46.68000000000001)\n",
      "Min, 10th Decile, IQR1, Median, IQR3, 90th Decile, and Max. are respectively:\n",
      "(46, 46.0, 47.0, 48.0)\n",
      "Range, Inter Quartile Range, variance, and Std. devations are respectively:\n",
      "(9, 3.0, 5.33, 2.31)\n",
      "Skewness and Kurtosis coefficients are:\n",
      "(0.83, 0.13)\n"
     ]
    },
    {
     "data": {
      "image/png": "[encoded data removed]",
      "text/plain": [
       "<Figure size 864x360 with 1 Axes>"
      ]
     },
     "metadata": {
      "needs_background": "light"
     },
     "output_type": "display_data"
    }
   ],
   "source": [
    "print(\"Summary of Descriptive Statistics:\")\n",
    "print(\"----------------------------------\")\n",
    "print(measure_of_central_tendency(df_right_skew.length))\n",
    "print(positional_statistics(df_right_skew.length))\n",
    "print(measure_of_dispersion(df_right_skew.length))\n",
    "print(measure_of_shape(df_right_skew.length))\n",
    "\n",
    "plt.figure(figsize=(12,5))\n",
    "sns.distplot(df_right_skew.length, bins=10, hist=True, kde=True, label = 'Length', color = \"blue\")\n",
    "plt.axvline(df_right_skew.length.mean(),color='orange',label='Mean')\n",
    "plt.axvline(df_right_skew.length.median(),color='black',label='Median')\n",
    "plt.axvline(3*df_right_skew.length.median()-2*df_right_skew.length.mean(),color='red',label='Mode')\n",
    "plt.axvline(df_right_skew.length.quantile(0.25),color='cyan',label='IQR1')\n",
    "plt.axvline(df_right_skew.length.quantile(0.75),color='cyan',label='IQR3')\n",
    "plt.axvline(df_right_skew.length.mean() - 3*df_right_skew.length.std(),color='lime',label= \"mean - 3*Sigma\")\n",
    "plt.axvline(df_right_skew.length.mean() + 3*df_right_skew.length.std(),color='lime',label= \"mean + 3*Sigma\")\n",
    "plt.title(\"Descriptive Statistics: For a Right-Skewed Distribution\", fontsize =14)\n",
    "plt.xlabel('Length', fontsize =14)\n",
    "plt.ylabel('Frequency', fontsize =14)\n",
    "plt.legend()\n",
    "plt.show()"
   ]
  },
  {
   "cell_type": "markdown",
   "id": "95e33a8f",
   "metadata": {},
   "source": [
    "We can observe that:\n",
    "- Mean, median, and mode are no more overlapping with each other.\n",
    "- In fact, we can notcie that **`Mode < Median < Mean`** - justifying a right or positively skewed data.\n",
    "- a long right tail, hence the mean is also to the **right** of the peak."
   ]
  },
  {
   "cell_type": "markdown",
   "id": "84b550d9",
   "metadata": {},
   "source": [
    "**C3. Outliers check** "
   ]
  },
  {
   "cell_type": "code",
   "execution_count": 48,
   "id": "c5f11736",
   "metadata": {},
   "outputs": [
    {
     "name": "stdout",
     "output_type": "stream",
     "text": [
      "IQR Methos: Outliers present in the data\n",
      "3 Sigma Methods: No Outliers present in the data\n"
     ]
    },
    {
     "data": {
      "image/png": "[encoded data removed]",
      "text/plain": [
       "<Figure size 360x432 with 1 Axes>"
      ]
     },
     "metadata": {
      "needs_background": "light"
     },
     "output_type": "display_data"
    }
   ],
   "source": [
    "# Calculate some relavnt values\n",
    "mn = df_right_skew.length.min()\n",
    "mx = df_right_skew.length.max()\n",
    "iqr1 = df_right_skew.length.quantile(.25)\n",
    "iqr3 = df_right_skew.length.quantile(.75)\n",
    "iqr = iqr3-iqr1\n",
    "sd = df_right_skew.length.std()\n",
    "mean = df_right_skew.length.mean()\n",
    "\n",
    "# IQR Methods:\n",
    "if((mn < iqr1 - 1.5*iqr) or (mx > iqr3 + 1.5*iqr)):\n",
    "    print(\"IQR Methos: Outliers present in the data\")        \n",
    "else:\n",
    "    print(\"IQR Methos: No Outliers present in the data\")\n",
    "    \n",
    "# Z Methods (or 3 -Sigma Methods)\n",
    "\n",
    "if((mn < (mean - 3*sd)) or (mx > (mean+3*sd))):\n",
    "   print(\"3 Sigma Methods: Outliers present in the data\")\n",
    "else:\n",
    "   print(\"3 Sigma Methods: No Outliers present in the data\")\n",
    "\n",
    "# Plot box plots to look for outliers\n",
    "plt.figure(figsize=(5,6))\n",
    "sns.boxplot(y = df_right_skew.length, color = \"cyan\")\n",
    "plt.show()"
   ]
  },
  {
   "cell_type": "markdown",
   "id": "69bf6e10",
   "metadata": {},
   "source": [
    "We notice that we have an outlier detected by IQR method but not by z-score method. Please note that IQR method considers **+/- 2.7*Sigma** for outliers detection, whereas Z-score method check **+/- 3*Sigma** for outliers detection.\n",
    "\n",
    "Refer this <a href=\"https://towardsdatascience.com/why-1-5-in-iqr-method-of-outlier-detection-5d07fdc82097\"> Blog </a> for more details."
   ]
  },
  {
   "cell_type": "code",
   "execution_count": null,
   "id": "b0441e24",
   "metadata": {},
   "outputs": [],
   "source": []
  }
 ],
 "metadata": {
  "kernelspec": {
   "display_name": "Python 3 (ipykernel)",
   "language": "python",
   "name": "python3"
  },
  "language_info": {
   "codemirror_mode": {
    "name": "ipython",
    "version": 3
   },
   "file_extension": ".py",
   "mimetype": "text/x-python",
   "name": "python",
   "nbconvert_exporter": "python",
   "pygments_lexer": "ipython3",
   "version": "3.9.7"
  }
 },
 "nbformat": 4,
 "nbformat_minor": 5
}
